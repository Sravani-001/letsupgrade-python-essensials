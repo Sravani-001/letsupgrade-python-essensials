{
  "nbformat": 4,
  "nbformat_minor": 0,
  "metadata": {
    "colab": {
      "name": "Python day-3.ipynb",
      "provenance": [],
      "authorship_tag": "ABX9TyM3hWr0zZM39rFtILb/5BK+",
      "include_colab_link": true
    },
    "kernelspec": {
      "name": "python3",
      "display_name": "Python 3"
    }
  },
  "cells": [
    {
      "cell_type": "markdown",
      "metadata": {
        "id": "view-in-github",
        "colab_type": "text"
      },
      "source": [
        "<a href=\"https://colab.research.google.com/github/Sravani-001/letsupgrade-python-essensials/blob/master/Python_day_3.ipynb\" target=\"_parent\"><img src=\"https://colab.research.google.com/assets/colab-badge.svg\" alt=\"Open In Colab\"/></a>"
      ]
    },
    {
      "cell_type": "code",
      "metadata": {
        "id": "y5_fwG5nGdCi",
        "colab_type": "code",
        "colab": {
          "base_uri": "https://localhost:8080/",
          "height": 86
        },
        "outputId": "89f560a8-c53e-4fee-c8e0-c2165e5565a8"
      },
      "source": [
        " \n",
        "for alt in range(1000,10000):\n",
        "    alt=int(input(\"Enter the Altitude:\"))\n",
        "    if alt==1000:\n",
        "         print(\"Safe to Land\")\n",
        "    elif alt>1000 and alt<5000:\n",
        "        print(\"Bring down to 1000\")\n",
        "    else:\n",
        "        print(\"Turn around\")"
      ],
      "execution_count": null,
      "outputs": [
        {
          "output_type": "stream",
          "text": [
            "Safe to Land\n",
            "Bring down to 1000\n",
            "Turn around\n",
            "Turn around\n"
          ],
          "name": "stdout"
        }
      ]
    },
    {
      "cell_type": "code",
      "metadata": {
        "id": "qtChIQhENTNW",
        "colab_type": "code",
        "colab": {
          "base_uri": "https://localhost:8080/",
          "height": 814
        },
        "outputId": "71a277bf-4295-4dea-b884-16327f84900e"
      },
      "source": [
        "for number in range (1,200):\n",
        "    count = 0\n",
        "    for i in range(2,(number//2+1)):\n",
        "        if (number%i==0):\n",
        "              count=count+1\n",
        "              break\n",
        "    if (count==0 and number !=1):\n",
        "        print (\"%d\" %number,end='\\n')"
      ],
      "execution_count": null,
      "outputs": [
        {
          "output_type": "stream",
          "text": [
            "2\n",
            "3\n",
            "5\n",
            "7\n",
            "11\n",
            "13\n",
            "17\n",
            "19\n",
            "23\n",
            "29\n",
            "31\n",
            "37\n",
            "41\n",
            "43\n",
            "47\n",
            "53\n",
            "59\n",
            "61\n",
            "67\n",
            "71\n",
            "73\n",
            "79\n",
            "83\n",
            "89\n",
            "97\n",
            "101\n",
            "103\n",
            "107\n",
            "109\n",
            "113\n",
            "127\n",
            "131\n",
            "137\n",
            "139\n",
            "149\n",
            "151\n",
            "157\n",
            "163\n",
            "167\n",
            "173\n",
            "179\n",
            "181\n",
            "191\n",
            "193\n",
            "197\n",
            "199\n"
          ],
          "name": "stdout"
        }
      ]
    }
  ]
}