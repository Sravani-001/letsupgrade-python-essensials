{
  "nbformat": 4,
  "nbformat_minor": 0,
  "metadata": {
    "colab": {
      "name": "Python day-4.ipynb",
      "provenance": [],
      "collapsed_sections": [],
      "authorship_tag": "ABX9TyMTSSSPhPHbsUC5qLI25sav",
      "include_colab_link": true
    },
    "kernelspec": {
      "name": "python3",
      "display_name": "Python 3"
    }
  },
  "cells": [
    {
      "cell_type": "markdown",
      "metadata": {
        "id": "view-in-github",
        "colab_type": "text"
      },
      "source": [
        "<a href=\"https://colab.research.google.com/github/Sravani-001/letsupgrade-python-essensials/blob/master/Python_day_4.ipynb\" target=\"_parent\"><img src=\"https://colab.research.google.com/assets/colab-badge.svg\" alt=\"Open In Colab\"/></a>"
      ]
    },
    {
      "cell_type": "code",
      "metadata": {
        "id": "VMFRHA1Jptz-",
        "colab_type": "code",
        "colab": {
          "base_uri": "https://localhost:8080/",
          "height": 329
        },
        "outputId": "4c22f18d-9abb-41fa-dfef-13d1f99fd75f"
      },
      "source": [
        "lower=104200\n",
        "upper=702648265\n",
        "for num in range(lower, upper):\n",
        "    order=len(str(num))\n",
        "    sum=0\n",
        "    temp=num\n",
        "    while temp>0:\n",
        "        digit = temp%10\n",
        "        sum += digit ** order\n",
        "        temp//=10\n",
        "        if num == sum:\n",
        "            print(num)"
      ],
      "execution_count": null,
      "outputs": [
        {
          "output_type": "stream",
          "text": [
            "262208\n",
            "524288\n",
            "548834\n",
            "1741725\n",
            "2097280\n",
            "2097281\n",
            "3278756\n",
            "4210818\n",
            "4782969\n",
            "4861095\n",
            "9800817\n",
            "9926315\n",
            "16790338\n",
            "16790338\n",
            "21816066\n",
            "24678050\n",
            "24678051\n",
            "26682755\n"
          ],
          "name": "stdout"
        }
      ]
    }
  ]
}